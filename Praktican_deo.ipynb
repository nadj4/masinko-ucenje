{
  "nbformat": 4,
  "nbformat_minor": 0,
  "metadata": {
    "colab": {
      "provenance": [],
      "authorship_tag": "ABX9TyO45KILTScfE1vXnZ4VzLKR",
      "include_colab_link": true
    },
    "kernelspec": {
      "name": "python3",
      "display_name": "Python 3"
    },
    "language_info": {
      "name": "python"
    }
  },
  "cells": [
    {
      "cell_type": "markdown",
      "metadata": {
        "id": "view-in-github",
        "colab_type": "text"
      },
      "source": [
        "<a href=\"https://colab.research.google.com/github/rat-nick/ml-lab/blob/main/Praktican_deo.ipynb\" target=\"_parent\"><img src=\"https://colab.research.google.com/assets/colab-badge.svg\" alt=\"Open In Colab\"/></a>"
      ]
    },
    {
      "cell_type": "markdown",
      "source": [
        "# Ucitavanje i preprocesiranje podataka\n",
        "\n",
        "Skinuti skup podataka https://archive.ics.uci.edu/dataset/20/census+income\n",
        "\n",
        "Obaviti ciscenje i preprocesiranje podataka za knn model.\n",
        "\n",
        "Objasniti sta je to korelaciona matrica i koja je njena uloga.\n",
        "\n",
        "Koji problem treba da resi nas model?"
      ],
      "metadata": {
        "id": "NFW_KnusiKvN"
      }
    },
    {
      "cell_type": "code",
      "source": [
        "import pandas as pd\n",
        "import missingno as mv\n",
        "import random\n",
        "from sklearn.model_selection import train_test_split\n",
        "df = pd.read_csv(\"adult.data\", header=None)\n",
        "df = df.sample(n=1000, random_state=42)\n",
        "cat = [1, 3, 5, 6, 7, 8, 9, 13]\n",
        "\n",
        "df = pd.get_dummies(df, columns=cat, drop_first=True)\n",
        "\n",
        "y = df[14]\n",
        "X = df.drop(columns=[14])\n",
        "X.head()\n",
        "print(X.shape)\n",
        "y = pd.get_dummies(y, drop_first=True)\n",
        "y.head()\n",
        "X.columns = X.columns.astype(str)\n",
        "Xtrain, Xtest, ytrain, ytest = train_test_split(X, y, test_size=0.2, random_state=42)\n",
        "print(Xtrain.shape, ytrain.shape, Xtest.shape, ytest.shape)\n"
      ],
      "metadata": {
        "colab": {
          "base_uri": "https://localhost:8080/"
        },
        "id": "a4PSHfg9jhIS",
        "outputId": "73b6afbe-4241-417f-99c7-de279d835474"
      },
      "execution_count": 48,
      "outputs": [
        {
          "output_type": "stream",
          "name": "stdout",
          "text": [
            "(1000, 83)\n",
            "(800, 83) (800, 1) (200, 83) (200, 1)\n"
          ]
        }
      ]
    },
    {
      "cell_type": "markdown",
      "source": [
        "# Obucavanje modela\n",
        "\n",
        "Obuciti knn model i naci optimalne hiperparametre."
      ],
      "metadata": {
        "id": "wqBvVeVpjHdq"
      }
    },
    {
      "cell_type": "code",
      "source": [
        "from sklearn.neighbors import KNeighborsClassifier\n",
        "from sklearn.metrics import classification_report\n",
        "ks = [x for x in range(9, 31, 2)]\n",
        "\n",
        "models = [KNeighborsClassifier(n_neighbors=k) for k in ks]\n",
        "\n",
        "for model in models:\n",
        "  print(f\"k = {model.get_params()['n_neighbors']}\")\n",
        "  model.fit(Xtrain, ytrain)\n",
        "  y_pred = model.predict(Xtest)\n",
        "  print(classification_report(ytest, y_pred))"
      ],
      "metadata": {
        "id": "-PSUw-UHnG8w",
        "outputId": "36ce8bfa-fd13-45c8-93e3-f2cdd42f38a1",
        "colab": {
          "base_uri": "https://localhost:8080/"
        }
      },
      "execution_count": 50,
      "outputs": [
        {
          "output_type": "stream",
          "name": "stdout",
          "text": [
            "k = 9\n",
            "              precision    recall  f1-score   support\n",
            "\n",
            "           0       0.76      0.99      0.86       150\n",
            "           1       0.75      0.06      0.11        50\n",
            "\n",
            "    accuracy                           0.76       200\n",
            "   macro avg       0.76      0.53      0.49       200\n",
            "weighted avg       0.76      0.76      0.67       200\n",
            "\n",
            "k = 11\n",
            "              precision    recall  f1-score   support\n",
            "\n",
            "           0       0.76      1.00      0.86       150\n",
            "           1       1.00      0.04      0.08        50\n",
            "\n",
            "    accuracy                           0.76       200\n",
            "   macro avg       0.88      0.52      0.47       200\n",
            "weighted avg       0.82      0.76      0.67       200\n",
            "\n",
            "k = 13\n",
            "              precision    recall  f1-score   support\n",
            "\n",
            "           0       0.76      1.00      0.86       150\n",
            "           1       1.00      0.04      0.08        50\n",
            "\n",
            "    accuracy                           0.76       200\n",
            "   macro avg       0.88      0.52      0.47       200\n",
            "weighted avg       0.82      0.76      0.67       200\n",
            "\n",
            "k = 15\n",
            "              precision    recall  f1-score   support\n",
            "\n",
            "           0       0.76      1.00      0.86       150\n",
            "           1       1.00      0.04      0.08        50\n",
            "\n",
            "    accuracy                           0.76       200\n",
            "   macro avg       0.88      0.52      0.47       200\n",
            "weighted avg       0.82      0.76      0.67       200\n",
            "\n",
            "k = 17\n"
          ]
        },
        {
          "output_type": "stream",
          "name": "stderr",
          "text": [
            "/usr/local/lib/python3.10/dist-packages/sklearn/neighbors/_classification.py:215: DataConversionWarning: A column-vector y was passed when a 1d array was expected. Please change the shape of y to (n_samples,), for example using ravel().\n",
            "  return self._fit(X, y)\n",
            "/usr/local/lib/python3.10/dist-packages/sklearn/neighbors/_classification.py:215: DataConversionWarning: A column-vector y was passed when a 1d array was expected. Please change the shape of y to (n_samples,), for example using ravel().\n",
            "  return self._fit(X, y)\n",
            "/usr/local/lib/python3.10/dist-packages/sklearn/neighbors/_classification.py:215: DataConversionWarning: A column-vector y was passed when a 1d array was expected. Please change the shape of y to (n_samples,), for example using ravel().\n",
            "  return self._fit(X, y)\n",
            "/usr/local/lib/python3.10/dist-packages/sklearn/neighbors/_classification.py:215: DataConversionWarning: A column-vector y was passed when a 1d array was expected. Please change the shape of y to (n_samples,), for example using ravel().\n",
            "  return self._fit(X, y)\n",
            "/usr/local/lib/python3.10/dist-packages/sklearn/neighbors/_classification.py:215: DataConversionWarning: A column-vector y was passed when a 1d array was expected. Please change the shape of y to (n_samples,), for example using ravel().\n",
            "  return self._fit(X, y)\n"
          ]
        },
        {
          "output_type": "stream",
          "name": "stdout",
          "text": [
            "              precision    recall  f1-score   support\n",
            "\n",
            "           0       0.75      1.00      0.86       150\n",
            "           1       1.00      0.02      0.04        50\n",
            "\n",
            "    accuracy                           0.76       200\n",
            "   macro avg       0.88      0.51      0.45       200\n",
            "weighted avg       0.82      0.76      0.65       200\n",
            "\n",
            "k = 19\n",
            "              precision    recall  f1-score   support\n",
            "\n",
            "           0       0.75      1.00      0.86       150\n",
            "           1       1.00      0.02      0.04        50\n",
            "\n",
            "    accuracy                           0.76       200\n",
            "   macro avg       0.88      0.51      0.45       200\n",
            "weighted avg       0.82      0.76      0.65       200\n",
            "\n",
            "k = 21\n",
            "              precision    recall  f1-score   support\n",
            "\n",
            "           0       0.75      1.00      0.86       150\n",
            "           1       1.00      0.02      0.04        50\n",
            "\n",
            "    accuracy                           0.76       200\n",
            "   macro avg       0.88      0.51      0.45       200\n",
            "weighted avg       0.82      0.76      0.65       200\n",
            "\n",
            "k = 23\n",
            "              precision    recall  f1-score   support\n",
            "\n",
            "           0       0.75      1.00      0.86       150\n",
            "           1       1.00      0.02      0.04        50\n",
            "\n",
            "    accuracy                           0.76       200\n",
            "   macro avg       0.88      0.51      0.45       200\n",
            "weighted avg       0.82      0.76      0.65       200\n",
            "\n",
            "k = 25\n",
            "              precision    recall  f1-score   support\n",
            "\n",
            "           0       0.75      1.00      0.86       150\n",
            "           1       1.00      0.02      0.04        50\n",
            "\n",
            "    accuracy                           0.76       200\n",
            "   macro avg       0.88      0.51      0.45       200\n",
            "weighted avg       0.82      0.76      0.65       200\n",
            "\n",
            "k = 27\n"
          ]
        },
        {
          "output_type": "stream",
          "name": "stderr",
          "text": [
            "/usr/local/lib/python3.10/dist-packages/sklearn/neighbors/_classification.py:215: DataConversionWarning: A column-vector y was passed when a 1d array was expected. Please change the shape of y to (n_samples,), for example using ravel().\n",
            "  return self._fit(X, y)\n",
            "/usr/local/lib/python3.10/dist-packages/sklearn/neighbors/_classification.py:215: DataConversionWarning: A column-vector y was passed when a 1d array was expected. Please change the shape of y to (n_samples,), for example using ravel().\n",
            "  return self._fit(X, y)\n",
            "/usr/local/lib/python3.10/dist-packages/sklearn/neighbors/_classification.py:215: DataConversionWarning: A column-vector y was passed when a 1d array was expected. Please change the shape of y to (n_samples,), for example using ravel().\n",
            "  return self._fit(X, y)\n",
            "/usr/local/lib/python3.10/dist-packages/sklearn/neighbors/_classification.py:215: DataConversionWarning: A column-vector y was passed when a 1d array was expected. Please change the shape of y to (n_samples,), for example using ravel().\n",
            "  return self._fit(X, y)\n",
            "/usr/local/lib/python3.10/dist-packages/sklearn/neighbors/_classification.py:215: DataConversionWarning: A column-vector y was passed when a 1d array was expected. Please change the shape of y to (n_samples,), for example using ravel().\n",
            "  return self._fit(X, y)\n"
          ]
        },
        {
          "output_type": "stream",
          "name": "stdout",
          "text": [
            "              precision    recall  f1-score   support\n",
            "\n",
            "           0       0.75      1.00      0.86       150\n",
            "           1       1.00      0.02      0.04        50\n",
            "\n",
            "    accuracy                           0.76       200\n",
            "   macro avg       0.88      0.51      0.45       200\n",
            "weighted avg       0.82      0.76      0.65       200\n",
            "\n",
            "k = 29\n",
            "              precision    recall  f1-score   support\n",
            "\n",
            "           0       0.75      1.00      0.86       150\n",
            "           1       1.00      0.02      0.04        50\n",
            "\n",
            "    accuracy                           0.76       200\n",
            "   macro avg       0.88      0.51      0.45       200\n",
            "weighted avg       0.82      0.76      0.65       200\n",
            "\n"
          ]
        },
        {
          "output_type": "stream",
          "name": "stderr",
          "text": [
            "/usr/local/lib/python3.10/dist-packages/sklearn/neighbors/_classification.py:215: DataConversionWarning: A column-vector y was passed when a 1d array was expected. Please change the shape of y to (n_samples,), for example using ravel().\n",
            "  return self._fit(X, y)\n"
          ]
        }
      ]
    },
    {
      "cell_type": "markdown",
      "source": [
        "# Evaluacija modela\n",
        "\n",
        "Proceniti valjanost modela i protumaciti vrednost metrika."
      ],
      "metadata": {
        "id": "C4OHKQhCkIcd"
      }
    }
  ]
}